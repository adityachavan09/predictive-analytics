{
 "cells": [
  {
   "cell_type": "markdown",
   "id": "ba05f31f",
   "metadata": {},
   "source": [
    "# <center> Module 2B Homework\n",
    "\n",
    "<center>  ISE-529 Predictive Analytics\n",
    "<center> Assignment\n",
    "<center> Student Name:Aditya Shrikant Chavan"
   ]
  },
  {
   "cell_type": "markdown",
   "id": "eee11b7a",
   "metadata": {},
   "source": [
    "*Note:  In answering the following questions, you may only use functionality from Base Python, NumPy, Pandas, or Seaborn*"
   ]
  },
  {
   "cell_type": "markdown",
   "id": "1266b9d2",
   "metadata": {},
   "source": [
    "#### 1.  Evaluating regression functions"
   ]
  },
  {
   "cell_type": "markdown",
   "id": "c46d20da",
   "metadata": {},
   "source": [
    "1A)  The file \"HW 2 Problem 1 Data.xlsx\" contains two datasets - training and test in two different spreadsheet tabs.  Read the tables into two dataframes (training_data and test_data) and display the first 10 rows of each dataframe.  Hint - look up the Pandas function for reading in Excel files."
   ]
  },
  {
   "cell_type": "code",
   "execution_count": 1,
   "id": "114437b2",
   "metadata": {},
   "outputs": [
    {
     "data": {
      "text/html": [
       "<div>\n",
       "<style scoped>\n",
       "    .dataframe tbody tr th:only-of-type {\n",
       "        vertical-align: middle;\n",
       "    }\n",
       "\n",
       "    .dataframe tbody tr th {\n",
       "        vertical-align: top;\n",
       "    }\n",
       "\n",
       "    .dataframe thead th {\n",
       "        text-align: right;\n",
       "    }\n",
       "</style>\n",
       "<table border=\"1\" class=\"dataframe\">\n",
       "  <thead>\n",
       "    <tr style=\"text-align: right;\">\n",
       "      <th></th>\n",
       "      <th>X</th>\n",
       "      <th>Y</th>\n",
       "    </tr>\n",
       "  </thead>\n",
       "  <tbody>\n",
       "    <tr>\n",
       "      <th>0</th>\n",
       "      <td>22.461229</td>\n",
       "      <td>1777.640170</td>\n",
       "    </tr>\n",
       "    <tr>\n",
       "      <th>1</th>\n",
       "      <td>84.889232</td>\n",
       "      <td>4119.062075</td>\n",
       "    </tr>\n",
       "    <tr>\n",
       "      <th>2</th>\n",
       "      <td>87.522032</td>\n",
       "      <td>3949.307419</td>\n",
       "    </tr>\n",
       "    <tr>\n",
       "      <th>3</th>\n",
       "      <td>14.696069</td>\n",
       "      <td>1598.543037</td>\n",
       "    </tr>\n",
       "    <tr>\n",
       "      <th>4</th>\n",
       "      <td>3.402483</td>\n",
       "      <td>293.380868</td>\n",
       "    </tr>\n",
       "    <tr>\n",
       "      <th>5</th>\n",
       "      <td>30.418684</td>\n",
       "      <td>1536.785742</td>\n",
       "    </tr>\n",
       "    <tr>\n",
       "      <th>6</th>\n",
       "      <td>41.611263</td>\n",
       "      <td>1847.445321</td>\n",
       "    </tr>\n",
       "    <tr>\n",
       "      <th>7</th>\n",
       "      <td>13.689247</td>\n",
       "      <td>789.595510</td>\n",
       "    </tr>\n",
       "    <tr>\n",
       "      <th>8</th>\n",
       "      <td>92.638951</td>\n",
       "      <td>4638.075124</td>\n",
       "    </tr>\n",
       "    <tr>\n",
       "      <th>9</th>\n",
       "      <td>74.219724</td>\n",
       "      <td>2850.494496</td>\n",
       "    </tr>\n",
       "  </tbody>\n",
       "</table>\n",
       "</div>"
      ],
      "text/plain": [
       "           X            Y\n",
       "0  22.461229  1777.640170\n",
       "1  84.889232  4119.062075\n",
       "2  87.522032  3949.307419\n",
       "3  14.696069  1598.543037\n",
       "4   3.402483   293.380868\n",
       "5  30.418684  1536.785742\n",
       "6  41.611263  1847.445321\n",
       "7  13.689247   789.595510\n",
       "8  92.638951  4638.075124\n",
       "9  74.219724  2850.494496"
      ]
     },
     "metadata": {},
     "output_type": "display_data"
    },
    {
     "data": {
      "text/html": [
       "<div>\n",
       "<style scoped>\n",
       "    .dataframe tbody tr th:only-of-type {\n",
       "        vertical-align: middle;\n",
       "    }\n",
       "\n",
       "    .dataframe tbody tr th {\n",
       "        vertical-align: top;\n",
       "    }\n",
       "\n",
       "    .dataframe thead th {\n",
       "        text-align: right;\n",
       "    }\n",
       "</style>\n",
       "<table border=\"1\" class=\"dataframe\">\n",
       "  <thead>\n",
       "    <tr style=\"text-align: right;\">\n",
       "      <th></th>\n",
       "      <th>X</th>\n",
       "      <th>Y</th>\n",
       "    </tr>\n",
       "  </thead>\n",
       "  <tbody>\n",
       "    <tr>\n",
       "      <th>0</th>\n",
       "      <td>41.535269</td>\n",
       "      <td>1193.508446</td>\n",
       "    </tr>\n",
       "    <tr>\n",
       "      <th>1</th>\n",
       "      <td>86.563634</td>\n",
       "      <td>4115.877672</td>\n",
       "    </tr>\n",
       "    <tr>\n",
       "      <th>2</th>\n",
       "      <td>20.192209</td>\n",
       "      <td>1601.366850</td>\n",
       "    </tr>\n",
       "    <tr>\n",
       "      <th>3</th>\n",
       "      <td>47.974340</td>\n",
       "      <td>2572.686060</td>\n",
       "    </tr>\n",
       "    <tr>\n",
       "      <th>4</th>\n",
       "      <td>83.449552</td>\n",
       "      <td>4110.238516</td>\n",
       "    </tr>\n",
       "    <tr>\n",
       "      <th>5</th>\n",
       "      <td>90.662401</td>\n",
       "      <td>3463.665650</td>\n",
       "    </tr>\n",
       "    <tr>\n",
       "      <th>6</th>\n",
       "      <td>13.262197</td>\n",
       "      <td>1540.725682</td>\n",
       "    </tr>\n",
       "    <tr>\n",
       "      <th>7</th>\n",
       "      <td>42.822816</td>\n",
       "      <td>3299.177263</td>\n",
       "    </tr>\n",
       "    <tr>\n",
       "      <th>8</th>\n",
       "      <td>92.369626</td>\n",
       "      <td>3345.980165</td>\n",
       "    </tr>\n",
       "    <tr>\n",
       "      <th>9</th>\n",
       "      <td>65.219225</td>\n",
       "      <td>4403.195082</td>\n",
       "    </tr>\n",
       "  </tbody>\n",
       "</table>\n",
       "</div>"
      ],
      "text/plain": [
       "           X            Y\n",
       "0  41.535269  1193.508446\n",
       "1  86.563634  4115.877672\n",
       "2  20.192209  1601.366850\n",
       "3  47.974340  2572.686060\n",
       "4  83.449552  4110.238516\n",
       "5  90.662401  3463.665650\n",
       "6  13.262197  1540.725682\n",
       "7  42.822816  3299.177263\n",
       "8  92.369626  3345.980165\n",
       "9  65.219225  4403.195082"
      ]
     },
     "metadata": {},
     "output_type": "display_data"
    }
   ],
   "source": [
    "import pandas as pd\n",
    "training_data=pd.read_csv(\"Problem 1 Training Dataset.csv\",index_col=False)\n",
    "test_data=pd.read_csv(\"Problem 1 Test Dataset.csv\")\n",
    "display(training_data.head(10))\n",
    "display(test_data.head(10))"
   ]
  },
  {
   "cell_type": "markdown",
   "id": "4f84156b",
   "metadata": {},
   "source": [
    "1b)  Using Seaborn, create scatterplots of the two dataframes.  For full credit, include a title (\"Training Data\" and \"Test Data\") for the two scatterplots."
   ]
  },
  {
   "cell_type": "code",
   "execution_count": 2,
   "id": "08d49141",
   "metadata": {},
   "outputs": [
    {
     "data": {
      "text/plain": [
       "[Text(0.5, 1.0, 'Training Data')]"
      ]
     },
     "execution_count": 2,
     "metadata": {},
     "output_type": "execute_result"
    },
    {
     "data": {
      "image/png": "[encoded data removed]",
      "text/plain": [
       "<Figure size 432x288 with 1 Axes>"
      ]
     },
     "metadata": {
      "needs_background": "light"
     },
     "output_type": "display_data"
    }
   ],
   "source": [
    "import seaborn as sns\n",
    "sns.scatterplot(data = training_data, x = \"X\", y = \"Y\").set(title=\"Training Data\")\n"
   ]
  },
  {
   "cell_type": "code",
   "execution_count": 3,
   "id": "a3c4498a",
   "metadata": {},
   "outputs": [
    {
     "data": {
      "text/plain": [
       "[Text(0.5, 1.0, 'Test Data')]"
      ]
     },
     "execution_count": 3,
     "metadata": {},
     "output_type": "execute_result"
    },
    {
     "data": {
      "image/png": "[encoded data removed]",
      "text/plain": [
       "<Figure size 432x288 with 1 Axes>"
      ]
     },
     "metadata": {
      "needs_background": "light"
     },
     "output_type": "display_data"
    }
   ],
   "source": [
    "sns.scatterplot(data = test_data, x = \"X\", y = \"Y\").set(title=\"Test Data\")"
   ]
  },
  {
   "cell_type": "markdown",
   "id": "ae4041c9",
   "metadata": {},
   "source": [
    "1c)  Now, we are going to calculate the test and training MSEs for three different candidate regression models:\n",
    "  - F1:  $40x + 500$\n",
    "  - F2:  $0.25x^2 + 15x + 915$\n",
    "  - F3:  $0.001x^3 +0.07x^2 + 22x - 860$"
   ]
  },
  {
   "cell_type": "markdown",
   "id": "b3bcf698",
   "metadata": {},
   "source": [
    "Create three functions for these three candidate models - f1(), f2(), and f3().  They should take as an input $x$ and return the predicted value of $y$ corresponding to that input:"
   ]
  },
  {
   "cell_type": "code",
   "execution_count": 4,
   "id": "e17ad846",
   "metadata": {},
   "outputs": [],
   "source": [
    "def f1(x):\n",
    "    y=((40*x)+500)\n",
    "    return y "
   ]
  },
  {
   "cell_type": "code",
   "execution_count": 5,
   "id": "7d4245e6",
   "metadata": {},
   "outputs": [],
   "source": [
    "def f2(x):\n",
    "    y=((0.25*(x**2))+(15*x)+(915))\n",
    "    return y"
   ]
  },
  {
   "cell_type": "code",
   "execution_count": 6,
   "id": "cea4f878",
   "metadata": {},
   "outputs": [],
   "source": [
    "def f3(x):\n",
    "    y=((0.001*(x**3))+(0.07*(x**2))+(22*x)-(860))\n",
    "    return y"
   ]
  },
  {
   "cell_type": "markdown",
   "id": "08a77d6a",
   "metadata": {},
   "source": [
    "1d)  Now, write a function calc_mse() that takes three parameter inputs:\n",
    "  - $x$ - an array (or Pandas series) of predictor $X$ values\n",
    "  - $y$ - an array (or Pandas series) of response $Y$ values\n",
    "  - $f$ - a function to be called for each value of the $x$ and $y$ arrays\n",
    "  \n",
    "The function should calculate the MSE for the function $f$ using the $x$ and $y$ data arrays"
   ]
  },
  {
   "cell_type": "code",
   "execution_count": 7,
   "id": "0558f478",
   "metadata": {},
   "outputs": [],
   "source": [
    "import numpy as np\n",
    "def calc_mse(df,func):\n",
    "    list_x=df[\"X\"].values.tolist()\n",
    "    list_y=df[\"Y\"].values.tolist()\n",
    "    list_calc_y=[]\n",
    "    for i in range(0,len(list_x)):\n",
    "        list_calc_y.append(func(list_x[i]))\n",
    "    MSE = (np.square(np.subtract(list_y,list_calc_y)).mean())\n",
    "    print(\"MSE =\",MSE)"
   ]
  },
  {
   "cell_type": "markdown",
   "id": "3922efb5",
   "metadata": {},
   "source": [
    "1e)  Call this calc_mse function six times to calculate the training and test MSE for each of the three models:"
   ]
  },
  {
   "cell_type": "code",
   "execution_count": 8,
   "id": "db0a794c",
   "metadata": {
    "scrolled": true
   },
   "outputs": [
    {
     "name": "stdout",
     "output_type": "stream",
     "text": [
      "MSE for Training data using f1\n",
      "MSE = 651579.9579588177\n",
      "MSE for Test data using f1\n",
      "MSE = 641128.8822276238\n",
      "MSE for Training data using f2\n",
      "MSE = 617950.7022509746\n",
      "MSE for Test data using f2\n",
      "MSE = 601065.5232581282\n",
      "MSE for Training data using f3\n",
      "MSE = 3746108.245917581\n",
      "MSE for Test data using f3\n",
      "MSE = 3643289.575973644\n"
     ]
    }
   ],
   "source": [
    "print(\"MSE for Training data using f1\")\n",
    "calc_mse(training_data,f1)\n",
    "print(\"MSE for Test data using f1\")\n",
    "calc_mse(test_data,f1)\n",
    "print(\"MSE for Training data using f2\")\n",
    "calc_mse(training_data,f2)\n",
    "print(\"MSE for Test data using f2\")\n",
    "calc_mse(test_data,f2)\n",
    "print(\"MSE for Training data using f3\")\n",
    "calc_mse(training_data,f3)\n",
    "print(\"MSE for Test data using f3\")\n",
    "calc_mse(test_data,f3)"
   ]
  },
  {
   "cell_type": "markdown",
   "id": "80f769a7",
   "metadata": {},
   "source": [
    "1f)  Which of the three models would you select for use and why?"
   ]
  },
  {
   "cell_type": "markdown",
   "id": "b9c4e3cb",
   "metadata": {},
   "source": []
  },
  {
   "cell_type": "markdown",
   "id": "af7d3223",
   "metadata": {},
   "source": [
    "1g) Insted of writing functions, write a single line of Python code to calculate the test MSE for function F1.  Hint:  use the Python map and lambda functions."
   ]
  },
  {
   "cell_type": "code",
   "execution_count": 9,
   "id": "c30ead05",
   "metadata": {},
   "outputs": [
    {
     "name": "stdout",
     "output_type": "stream",
     "text": [
      "MSE for training data using f1 651579.9579588177\n",
      "MSE for test data using f1 641128.8822276238\n",
      "MSE for training data using f2 617950.7022509746\n",
      "MSE for test data using f2 601065.5232581282\n",
      "MSE for training data using f3 3746108.245917581\n",
      "MSE for test data using f3 3643289.575973644\n"
     ]
    }
   ],
   "source": [
    "from sklearn.metrics import mean_squared_error\n",
    "print(\"MSE for training data using f1 \"+str(mean_squared_error(training_data[\"Y\"].values.tolist(),list(map(lambda x:((40*x)+500),training_data[\"X\"].values.tolist() )))))\n",
    "print(\"MSE for test data using f1 \"+str(mean_squared_error(test_data[\"Y\"].values.tolist(),list(map(lambda x:((40*x)+500),test_data[\"X\"].values.tolist() )))))\n",
    "print(\"MSE for training data using f2 \"+str(mean_squared_error(training_data[\"Y\"].values.tolist(),list(map(lambda x:((0.25*(x**2))+(15*x)+(915)),training_data[\"X\"].values.tolist() )))))\n",
    "print(\"MSE for test data using f2 \"+str(mean_squared_error(test_data[\"Y\"].values.tolist(),list(map(lambda x:((0.25*(x**2))+(15*x)+(915)),test_data[\"X\"].values.tolist() )))))\n",
    "print(\"MSE for training data using f3 \"+str(mean_squared_error(training_data[\"Y\"].values.tolist(),list(map(lambda x:((0.001*(x**3))+(0.07*(x**2))+(22*x)-(860)),training_data[\"X\"].values.tolist() )))))\n",
    "print(\"MSE for test data using f3 \"+str(mean_squared_error(test_data[\"Y\"].values.tolist(),list(map(lambda x:((0.001*(x**3))+(0.07*(x**2))+(22*x)-(860)),test_data[\"X\"].values.tolist() )))))\n"
   ]
  },
  {
   "cell_type": "markdown",
   "id": "d2240699",
   "metadata": {},
   "source": [
    "#### 2.  KNN and Calculate Misclassification Rates"
   ]
  },
  {
   "cell_type": "markdown",
   "id": "2fdbf553",
   "metadata": {},
   "source": [
    "2a)  Read the file \"Problem 2 Training Dataset.csv\" into a dataframe called knn_training_data and the file 'Problem 2 Test Dataset.csv' into a dataframe called knn_test_data.  Display the first 10 rows of the knn_training_data dataframe."
   ]
  },
  {
   "cell_type": "code",
   "execution_count": 10,
   "id": "c7bfc903",
   "metadata": {},
   "outputs": [
    {
     "data": {
      "text/html": [
       "<div>\n",
       "<style scoped>\n",
       "    .dataframe tbody tr th:only-of-type {\n",
       "        vertical-align: middle;\n",
       "    }\n",
       "\n",
       "    .dataframe tbody tr th {\n",
       "        vertical-align: top;\n",
       "    }\n",
       "\n",
       "    .dataframe thead th {\n",
       "        text-align: right;\n",
       "    }\n",
       "</style>\n",
       "<table border=\"1\" class=\"dataframe\">\n",
       "  <thead>\n",
       "    <tr style=\"text-align: right;\">\n",
       "      <th></th>\n",
       "      <th>X1</th>\n",
       "      <th>X2</th>\n",
       "      <th>Y</th>\n",
       "    </tr>\n",
       "  </thead>\n",
       "  <tbody>\n",
       "    <tr>\n",
       "      <th>0</th>\n",
       "      <td>68.936765</td>\n",
       "      <td>27.289798</td>\n",
       "      <td>Yellow</td>\n",
       "    </tr>\n",
       "    <tr>\n",
       "      <th>1</th>\n",
       "      <td>6.441438</td>\n",
       "      <td>94.429682</td>\n",
       "      <td>Red</td>\n",
       "    </tr>\n",
       "    <tr>\n",
       "      <th>2</th>\n",
       "      <td>11.456609</td>\n",
       "      <td>90.660702</td>\n",
       "      <td>Red</td>\n",
       "    </tr>\n",
       "    <tr>\n",
       "      <th>3</th>\n",
       "      <td>15.934097</td>\n",
       "      <td>28.927926</td>\n",
       "      <td>Red</td>\n",
       "    </tr>\n",
       "    <tr>\n",
       "      <th>4</th>\n",
       "      <td>44.847427</td>\n",
       "      <td>10.069445</td>\n",
       "      <td>Yellow</td>\n",
       "    </tr>\n",
       "    <tr>\n",
       "      <th>5</th>\n",
       "      <td>59.249555</td>\n",
       "      <td>62.548411</td>\n",
       "      <td>Blue</td>\n",
       "    </tr>\n",
       "    <tr>\n",
       "      <th>6</th>\n",
       "      <td>6.524247</td>\n",
       "      <td>86.135853</td>\n",
       "      <td>Red</td>\n",
       "    </tr>\n",
       "    <tr>\n",
       "      <th>7</th>\n",
       "      <td>10.158818</td>\n",
       "      <td>83.543817</td>\n",
       "      <td>Red</td>\n",
       "    </tr>\n",
       "    <tr>\n",
       "      <th>8</th>\n",
       "      <td>93.640622</td>\n",
       "      <td>32.986361</td>\n",
       "      <td>Yellow</td>\n",
       "    </tr>\n",
       "    <tr>\n",
       "      <th>9</th>\n",
       "      <td>18.484073</td>\n",
       "      <td>56.248987</td>\n",
       "      <td>Red</td>\n",
       "    </tr>\n",
       "  </tbody>\n",
       "</table>\n",
       "</div>"
      ],
      "text/plain": [
       "          X1         X2       Y\n",
       "0  68.936765  27.289798  Yellow\n",
       "1   6.441438  94.429682     Red\n",
       "2  11.456609  90.660702     Red\n",
       "3  15.934097  28.927926     Red\n",
       "4  44.847427  10.069445  Yellow\n",
       "5  59.249555  62.548411    Blue\n",
       "6   6.524247  86.135853     Red\n",
       "7  10.158818  83.543817     Red\n",
       "8  93.640622  32.986361  Yellow\n",
       "9  18.484073  56.248987     Red"
      ]
     },
     "metadata": {},
     "output_type": "display_data"
    },
    {
     "data": {
      "text/html": [
       "<div>\n",
       "<style scoped>\n",
       "    .dataframe tbody tr th:only-of-type {\n",
       "        vertical-align: middle;\n",
       "    }\n",
       "\n",
       "    .dataframe tbody tr th {\n",
       "        vertical-align: top;\n",
       "    }\n",
       "\n",
       "    .dataframe thead th {\n",
       "        text-align: right;\n",
       "    }\n",
       "</style>\n",
       "<table border=\"1\" class=\"dataframe\">\n",
       "  <thead>\n",
       "    <tr style=\"text-align: right;\">\n",
       "      <th></th>\n",
       "      <th>X1</th>\n",
       "      <th>X2</th>\n",
       "      <th>Y</th>\n",
       "    </tr>\n",
       "  </thead>\n",
       "  <tbody>\n",
       "    <tr>\n",
       "      <th>0</th>\n",
       "      <td>58.271758</td>\n",
       "      <td>21.169050</td>\n",
       "      <td>Yellow</td>\n",
       "    </tr>\n",
       "    <tr>\n",
       "      <th>1</th>\n",
       "      <td>52.610102</td>\n",
       "      <td>58.256975</td>\n",
       "      <td>Blue</td>\n",
       "    </tr>\n",
       "    <tr>\n",
       "      <th>2</th>\n",
       "      <td>22.743925</td>\n",
       "      <td>46.292871</td>\n",
       "      <td>Red</td>\n",
       "    </tr>\n",
       "    <tr>\n",
       "      <th>3</th>\n",
       "      <td>22.928611</td>\n",
       "      <td>23.782804</td>\n",
       "      <td>Red</td>\n",
       "    </tr>\n",
       "    <tr>\n",
       "      <th>4</th>\n",
       "      <td>28.829606</td>\n",
       "      <td>26.873953</td>\n",
       "      <td>Red</td>\n",
       "    </tr>\n",
       "    <tr>\n",
       "      <th>5</th>\n",
       "      <td>41.769966</td>\n",
       "      <td>84.340371</td>\n",
       "      <td>Blue</td>\n",
       "    </tr>\n",
       "    <tr>\n",
       "      <th>6</th>\n",
       "      <td>78.783755</td>\n",
       "      <td>10.819478</td>\n",
       "      <td>Yellow</td>\n",
       "    </tr>\n",
       "    <tr>\n",
       "      <th>7</th>\n",
       "      <td>58.959003</td>\n",
       "      <td>33.807893</td>\n",
       "      <td>Yellow</td>\n",
       "    </tr>\n",
       "    <tr>\n",
       "      <th>8</th>\n",
       "      <td>32.103775</td>\n",
       "      <td>83.987495</td>\n",
       "      <td>Red</td>\n",
       "    </tr>\n",
       "    <tr>\n",
       "      <th>9</th>\n",
       "      <td>44.027745</td>\n",
       "      <td>79.680364</td>\n",
       "      <td>Blue</td>\n",
       "    </tr>\n",
       "  </tbody>\n",
       "</table>\n",
       "</div>"
      ],
      "text/plain": [
       "          X1         X2       Y\n",
       "0  58.271758  21.169050  Yellow\n",
       "1  52.610102  58.256975    Blue\n",
       "2  22.743925  46.292871     Red\n",
       "3  22.928611  23.782804     Red\n",
       "4  28.829606  26.873953     Red\n",
       "5  41.769966  84.340371    Blue\n",
       "6  78.783755  10.819478  Yellow\n",
       "7  58.959003  33.807893  Yellow\n",
       "8  32.103775  83.987495     Red\n",
       "9  44.027745  79.680364    Blue"
      ]
     },
     "metadata": {},
     "output_type": "display_data"
    }
   ],
   "source": [
    "import pandas as pd\n",
    "knn_training_data=pd.read_csv(\"Problem 2 Training Dataset.csv\")\n",
    "knn_test_data=pd.read_csv(\"Problem 2 Test Dataset.csv\")\n",
    "display(knn_training_data.head(10))\n",
    "display(knn_test_data.head(10))"
   ]
  },
  {
   "cell_type": "markdown",
   "id": "8bed4f75",
   "metadata": {},
   "source": [
    "2b)  Using Seaborn, create a color-coded scatterplot of the training data (where each point is colored with its category color).  For full credit, be sure to color the points correctly with yellow, blue, and red colors. "
   ]
  },
  {
   "cell_type": "code",
   "execution_count": 11,
   "id": "277fcef7",
   "metadata": {
    "scrolled": true
   },
   "outputs": [
    {
     "data": {
      "text/plain": [
       "[Text(0.5, 1.0, 'Training Data')]"
      ]
     },
     "execution_count": 11,
     "metadata": {},
     "output_type": "execute_result"
    },
    {
     "data": {
      "image/png": "[encoded data removed]",
      "text/plain": [
       "<Figure size 432x288 with 1 Axes>"
      ]
     },
     "metadata": {
      "needs_background": "light"
     },
     "output_type": "display_data"
    }
   ],
   "source": [
    "sns.scatterplot(data=knn_training_data, x=\"X1\", y=\"X2\", hue=\"Y\").set(title=\"Training Data\")"
   ]
  },
  {
   "cell_type": "markdown",
   "id": "300c46fa",
   "metadata": {},
   "source": [
    "Now, we are going to create and assess predictions for the category of the test data using KNN-1 and KNN-3 algorithms. \n",
    "\n",
    "The problem sub-parts below will step you through the process of doing this."
   ]
  },
  {
   "cell_type": "markdown",
   "id": "e276f424",
   "metadata": {},
   "source": [
    "2c)  Create a two-dimensional numpy array of size 20x80 that has the distance of each training set observation to each test set observation.  Use a Euclidean formula to calculate the distances.  Display the first row of the distance table (this row will show the distance of each training observation from the first observation in the test dataset)"
   ]
  },
  {
   "cell_type": "code",
   "execution_count": 12,
   "id": "7e08d081",
   "metadata": {},
   "outputs": [
    {
     "name": "stdout",
     "output_type": "stream",
     "text": [
      "10.112535207523653\n",
      "33    Yellow\n",
      "Name: Y, dtype: object\n",
      "10.112535207523653\n",
      "[33, 63, 0]\n",
      "Yellow\n"
     ]
    }
   ],
   "source": [
    "import numpy as np\n",
    "dist_arr=np.empty([len(knn_test_data),len(knn_training_data)])\n",
    "for i in range(0,len(knn_test_data)):\n",
    "    for j in range(0,len(knn_training_data)):\n",
    "        dist_arr[i,j]=((((knn_training_data[\"X2\"][j])-(knn_test_data[\"X2\"][i]))**2)+(((knn_training_data[\"X1\"][j])-(knn_test_data[\"X1\"][i]))**2))**0.5\n",
    "print(np.amin(dist_arr[0])) \n",
    "print(knn_training_data[\"Y\"][np.where(dist_arr[0] == np.amin(dist_arr[0]))[0]])\n",
    "print(dist_arr[0,33])\n",
    "nn_list=dist_arr[0].tolist()\n",
    "res = sorted(range(len(nn_list)), key = lambda sub: nn_list[sub])[:3]\n",
    "print(str(res))\n",
    "print(knn_training_data[\"Y\"][res[0]])"
   ]
  },
  {
   "cell_type": "markdown",
   "id": "d1ef68b1",
   "metadata": {},
   "source": [
    "2d)  Now create a dataframe with 20 rows (one per observation in the test dataset) and 3 columns labeled 'nn1_cat', 'nn2_cat', and 'nn3_cat'.  Populate the dataframe with the category color for the first, second, and third nearest neighbor for each observation.\n",
    "\n",
    "Display the first ten rows of this dataframe"
   ]
  },
  {
   "cell_type": "code",
   "execution_count": 13,
   "id": "91898601",
   "metadata": {},
   "outputs": [
    {
     "data": {
      "text/html": [
       "<div>\n",
       "<style scoped>\n",
       "    .dataframe tbody tr th:only-of-type {\n",
       "        vertical-align: middle;\n",
       "    }\n",
       "\n",
       "    .dataframe tbody tr th {\n",
       "        vertical-align: top;\n",
       "    }\n",
       "\n",
       "    .dataframe thead th {\n",
       "        text-align: right;\n",
       "    }\n",
       "</style>\n",
       "<table border=\"1\" class=\"dataframe\">\n",
       "  <thead>\n",
       "    <tr style=\"text-align: right;\">\n",
       "      <th></th>\n",
       "      <th>nn1_cat</th>\n",
       "      <th>nn2_cat</th>\n",
       "      <th>nn3_cat</th>\n",
       "    </tr>\n",
       "  </thead>\n",
       "  <tbody>\n",
       "    <tr>\n",
       "      <th>0</th>\n",
       "      <td>Yellow</td>\n",
       "      <td>Yellow</td>\n",
       "      <td>Yellow</td>\n",
       "    </tr>\n",
       "    <tr>\n",
       "      <th>1</th>\n",
       "      <td>Yellow</td>\n",
       "      <td>Blue</td>\n",
       "      <td>Blue</td>\n",
       "    </tr>\n",
       "    <tr>\n",
       "      <th>2</th>\n",
       "      <td>Red</td>\n",
       "      <td>Red</td>\n",
       "      <td>Red</td>\n",
       "    </tr>\n",
       "    <tr>\n",
       "      <th>3</th>\n",
       "      <td>Red</td>\n",
       "      <td>Red</td>\n",
       "      <td>Red</td>\n",
       "    </tr>\n",
       "    <tr>\n",
       "      <th>4</th>\n",
       "      <td>Red</td>\n",
       "      <td>Red</td>\n",
       "      <td>Red</td>\n",
       "    </tr>\n",
       "    <tr>\n",
       "      <th>5</th>\n",
       "      <td>Blue</td>\n",
       "      <td>Red</td>\n",
       "      <td>Red</td>\n",
       "    </tr>\n",
       "    <tr>\n",
       "      <th>6</th>\n",
       "      <td>Yellow</td>\n",
       "      <td>Yellow</td>\n",
       "      <td>Yellow</td>\n",
       "    </tr>\n",
       "    <tr>\n",
       "      <th>7</th>\n",
       "      <td>Yellow</td>\n",
       "      <td>Yellow</td>\n",
       "      <td>Yellow</td>\n",
       "    </tr>\n",
       "    <tr>\n",
       "      <th>8</th>\n",
       "      <td>Red</td>\n",
       "      <td>Red</td>\n",
       "      <td>Blue</td>\n",
       "    </tr>\n",
       "    <tr>\n",
       "      <th>9</th>\n",
       "      <td>Blue</td>\n",
       "      <td>Red</td>\n",
       "      <td>Red</td>\n",
       "    </tr>\n",
       "  </tbody>\n",
       "</table>\n",
       "</div>"
      ],
      "text/plain": [
       "  nn1_cat nn2_cat nn3_cat\n",
       "0  Yellow  Yellow  Yellow\n",
       "1  Yellow    Blue    Blue\n",
       "2     Red     Red     Red\n",
       "3     Red     Red     Red\n",
       "4     Red     Red     Red\n",
       "5    Blue     Red     Red\n",
       "6  Yellow  Yellow  Yellow\n",
       "7  Yellow  Yellow  Yellow\n",
       "8     Red     Red    Blue\n",
       "9    Blue     Red     Red"
      ]
     },
     "metadata": {},
     "output_type": "display_data"
    }
   ],
   "source": [
    "nearest_df=pd.DataFrame(columns=[\"nn1_cat\",\"nn2_cat\",\"nn3_cat\"])\n",
    "for neighbour in range(0,len(knn_test_data)):\n",
    "    neighbour_list=dist_arr[neighbour].tolist()\n",
    "    res = sorted(range(len(neighbour_list)), key = lambda sub: neighbour_list[sub])[:3]\n",
    "    catnn1=knn_training_data[\"Y\"][res[0]]\n",
    "    catnn2=knn_training_data[\"Y\"][res[1]]\n",
    "    catnn3=knn_training_data[\"Y\"][res[2]]\n",
    "    nearest_df=nearest_df.append({\"nn1_cat\":catnn1,\"nn2_cat\":catnn2,\"nn3_cat\":catnn3},ignore_index=True)\n",
    "display(nearest_df.head(10))    "
   ]
  },
  {
   "cell_type": "markdown",
   "id": "fe320330",
   "metadata": {},
   "source": [
    "2e)  Create a series nn1_preds that has the prediction for each observation using a KNN1 algorithm.  Display the first 10 rows of the prediction series."
   ]
  },
  {
   "cell_type": "code",
   "execution_count": 14,
   "id": "026afa0e",
   "metadata": {},
   "outputs": [
    {
     "data": {
      "text/plain": [
       "0    Yellow\n",
       "1    Yellow\n",
       "2       Red\n",
       "3       Red\n",
       "4       Red\n",
       "5      Blue\n",
       "6    Yellow\n",
       "7    Yellow\n",
       "8       Red\n",
       "9      Blue\n",
       "Name: nn1_cat, dtype: object"
      ]
     },
     "metadata": {},
     "output_type": "display_data"
    }
   ],
   "source": [
    "nn1_preds=pd.Series(nearest_df[\"nn1_cat\"])\n",
    "display(nn1_preds.head(10))"
   ]
  },
  {
   "cell_type": "markdown",
   "id": "348d2c83",
   "metadata": {},
   "source": [
    "2f)  Calculate the misclassification rate for the KNN1 algorithm on this dataset"
   ]
  },
  {
   "cell_type": "code",
   "execution_count": 15,
   "id": "3609b458",
   "metadata": {},
   "outputs": [
    {
     "name": "stdout",
     "output_type": "stream",
     "text": [
      "Missclasification rate is10.0\n"
     ]
    }
   ],
   "source": [
    "count=0\n",
    "for test in range (0,len(knn_test_data)):\n",
    "    if(knn_test_data[\"Y\"][test]!=nn1_preds[test]):\n",
    "        count=count+1\n",
    "print(\"Missclasification rate is\"+str((count/len(knn_test_data)*100)))"
   ]
  },
  {
   "cell_type": "markdown",
   "id": "53a32dc4",
   "metadata": {},
   "source": [
    "2g)  Create a Pandas series nn3_preds that has the prediction for each observation using a KNN3 algorithm.  Display the first 10 rows of the series.  (If the three nearest neighbors all have different color categories, use the first nearest neighbor category as the prediction)"
   ]
  },
  {
   "cell_type": "code",
   "execution_count": 16,
   "id": "c97340ae",
   "metadata": {},
   "outputs": [
    {
     "data": {
      "text/plain": [
       "0    Yellow\n",
       "1    Yellow\n",
       "2       Red\n",
       "3       Red\n",
       "4       Red\n",
       "5      Blue\n",
       "6    Yellow\n",
       "7    Yellow\n",
       "8       Red\n",
       "9      Blue\n",
       "dtype: object"
      ]
     },
     "metadata": {},
     "output_type": "display_data"
    }
   ],
   "source": [
    "def countX(lst, x):\n",
    "    count = 0\n",
    "    for ele in lst:\n",
    "        if (ele == x):\n",
    "            count = count + 1\n",
    "    return count\n",
    "pred_list=[]\n",
    "for index, rows in nearest_df.iterrows():\n",
    "    my_list =[rows.nn1_cat, rows.nn2_cat, rows.nn3_cat]\n",
    "    count_red=countX(my_list,\"Red\")\n",
    "    count_yellow=countX(my_list,\"Yellow\")\n",
    "    count_blue=countX(my_list,\"Blue\")\n",
    "    if (count_red>count_blue&count_red>count_yellow):\n",
    "        pred=\"Red\"\n",
    "    else:\n",
    "        if(count_yellow>count_red&count_yellow>count_blue):\n",
    "            pred=\"Yellow\"\n",
    "        else:\n",
    "            if(count_blue>count_yellow&count_blue>count_red):\n",
    "                pred=\"Blue\"\n",
    "            else:\n",
    "                pred=my_list[0]\n",
    "    pred_list.append(pred)\n",
    "nn3_preds=pd.Series(pred_list)\n",
    "display(nn3_preds.head(10))"
   ]
  },
  {
   "cell_type": "markdown",
   "id": "eb722323",
   "metadata": {},
   "source": [
    "2h) Calculate the misclassification rate for the KNN3 algorithm on this dataset"
   ]
  },
  {
   "cell_type": "code",
   "execution_count": 17,
   "id": "85f0b227",
   "metadata": {},
   "outputs": [
    {
     "name": "stdout",
     "output_type": "stream",
     "text": [
      "Missclasification rate is10.0\n"
     ]
    }
   ],
   "source": [
    "count=0\n",
    "for test in range (0,len(knn_test_data)):\n",
    "    if(knn_test_data[\"Y\"][test]!=nn3_preds[test]):\n",
    "        count=count+1\n",
    "print(\"Missclasification rate is\"+str((count/len(knn_test_data)*100)))"
   ]
  },
  {
   "cell_type": "code",
   "execution_count": null,
   "id": "a09cf6bd",
   "metadata": {},
   "outputs": [],
   "source": []
  }
 ],
 "metadata": {
  "kernelspec": {
   "display_name": "Python 3",
   "language": "python",
   "name": "python3"
  },
  "language_info": {
   "codemirror_mode": {
    "name": "ipython",
    "version": 3
   },
   "file_extension": ".py",
   "mimetype": "text/x-python",
   "name": "python",
   "nbconvert_exporter": "python",
   "pygments_lexer": "ipython3",
   "version": "3.8.8"
  }
 },
 "nbformat": 4,
 "nbformat_minor": 5
}
