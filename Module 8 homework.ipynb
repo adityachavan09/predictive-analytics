{
 "cells": [
  {
   "cell_type": "markdown",
   "id": "ff649393",
   "metadata": {},
   "source": [
    "#  <center>Module 8 Homework\n",
    "## <center>ISE-529\n",
    "## <center>Aditya Shrikant Chavan\n",
    "## <center>USC ID 8741411805 "
   ]
  },
  {
   "cell_type": "markdown",
   "id": "3c2b35f7",
   "metadata": {},
   "source": [
    "1)  This problem uses Poisson regression to model data on suicide rates by country (couts per 10,000 population) in 2015 based on the existence of a mental health plan in the country in 2011 (1 = no, 2 = yes) and the number of pysychiatrists in the country in 2011 (per 100,000 population)."
   ]
  },
  {
   "cell_type": "markdown",
   "id": "d9b904d5",
   "metadata": {},
   "source": [
    "1a)  Read in the dataset from the file \"Suicide Rates by Country - 2015\" and create a histogram of the counts of suicides per 10,000 population (\"rates\")"
   ]
  },
  {
   "cell_type": "code",
   "execution_count": 1,
   "id": "60e30d66",
   "metadata": {},
   "outputs": [],
   "source": [
    "import pandas as pd\n",
    "import matplotlib.pyplot as plt\n",
    "from sklearn import linear_model\n",
    "import numpy as np"
   ]
  },
  {
   "cell_type": "code",
   "execution_count": 2,
   "id": "54e58bcc",
   "metadata": {},
   "outputs": [
    {
     "data": {
      "text/html": [
       "<div>\n",
       "<style scoped>\n",
       "    .dataframe tbody tr th:only-of-type {\n",
       "        vertical-align: middle;\n",
       "    }\n",
       "\n",
       "    .dataframe tbody tr th {\n",
       "        vertical-align: top;\n",
       "    }\n",
       "\n",
       "    .dataframe thead th {\n",
       "        text-align: right;\n",
       "    }\n",
       "</style>\n",
       "<table border=\"1\" class=\"dataframe\">\n",
       "  <thead>\n",
       "    <tr style=\"text-align: right;\">\n",
       "      <th></th>\n",
       "      <th>country</th>\n",
       "      <th>plan</th>\n",
       "      <th>psych</th>\n",
       "      <th>rates</th>\n",
       "      <th>male_rates</th>\n",
       "    </tr>\n",
       "  </thead>\n",
       "  <tbody>\n",
       "    <tr>\n",
       "      <th>0</th>\n",
       "      <td>1</td>\n",
       "      <td>2</td>\n",
       "      <td>0.16</td>\n",
       "      <td>55</td>\n",
       "      <td>83</td>\n",
       "    </tr>\n",
       "    <tr>\n",
       "      <th>1</th>\n",
       "      <td>2</td>\n",
       "      <td>2</td>\n",
       "      <td>1.83</td>\n",
       "      <td>43</td>\n",
       "      <td>59</td>\n",
       "    </tr>\n",
       "    <tr>\n",
       "      <th>2</th>\n",
       "      <td>3</td>\n",
       "      <td>2</td>\n",
       "      <td>1.55</td>\n",
       "      <td>31</td>\n",
       "      <td>50</td>\n",
       "    </tr>\n",
       "    <tr>\n",
       "      <th>3</th>\n",
       "      <td>4</td>\n",
       "      <td>2</td>\n",
       "      <td>0.02</td>\n",
       "      <td>205</td>\n",
       "      <td>295</td>\n",
       "    </tr>\n",
       "    <tr>\n",
       "      <th>4</th>\n",
       "      <td>5</td>\n",
       "      <td>1</td>\n",
       "      <td>1.13</td>\n",
       "      <td>0</td>\n",
       "      <td>0</td>\n",
       "    </tr>\n",
       "    <tr>\n",
       "      <th>...</th>\n",
       "      <td>...</td>\n",
       "      <td>...</td>\n",
       "      <td>...</td>\n",
       "      <td>...</td>\n",
       "      <td>...</td>\n",
       "    </tr>\n",
       "    <tr>\n",
       "      <th>165</th>\n",
       "      <td>167</td>\n",
       "      <td>2</td>\n",
       "      <td>0.00</td>\n",
       "      <td>58</td>\n",
       "      <td>87</td>\n",
       "    </tr>\n",
       "    <tr>\n",
       "      <th>166</th>\n",
       "      <td>168</td>\n",
       "      <td>2</td>\n",
       "      <td>1.01</td>\n",
       "      <td>74</td>\n",
       "      <td>112</td>\n",
       "    </tr>\n",
       "    <tr>\n",
       "      <th>167</th>\n",
       "      <td>169</td>\n",
       "      <td>1</td>\n",
       "      <td>0.21</td>\n",
       "      <td>82</td>\n",
       "      <td>106</td>\n",
       "    </tr>\n",
       "    <tr>\n",
       "      <th>168</th>\n",
       "      <td>170</td>\n",
       "      <td>2</td>\n",
       "      <td>0.03</td>\n",
       "      <td>64</td>\n",
       "      <td>99</td>\n",
       "    </tr>\n",
       "    <tr>\n",
       "      <th>169</th>\n",
       "      <td>171</td>\n",
       "      <td>2</td>\n",
       "      <td>0.06</td>\n",
       "      <td>105</td>\n",
       "      <td>156</td>\n",
       "    </tr>\n",
       "  </tbody>\n",
       "</table>\n",
       "<p>170 rows × 5 columns</p>\n",
       "</div>"
      ],
      "text/plain": [
       "     country  plan  psych  rates  male_rates\n",
       "0          1     2   0.16     55          83\n",
       "1          2     2   1.83     43          59\n",
       "2          3     2   1.55     31          50\n",
       "3          4     2   0.02    205         295\n",
       "4          5     1   1.13      0           0\n",
       "..       ...   ...    ...    ...         ...\n",
       "165      167     2   0.00     58          87\n",
       "166      168     2   1.01     74         112\n",
       "167      169     1   0.21     82         106\n",
       "168      170     2   0.03     64          99\n",
       "169      171     2   0.06    105         156\n",
       "\n",
       "[170 rows x 5 columns]"
      ]
     },
     "metadata": {},
     "output_type": "display_data"
    },
    {
     "data": {
      "text/plain": [
       "Text(0, 0.5, 'Occurences')"
      ]
     },
     "execution_count": 2,
     "metadata": {},
     "output_type": "execute_result"
    },
    {
     "data": {
      "image/png": "[encoded data removed]",
      "text/plain": [
       "<Figure size 432x288 with 1 Axes>"
      ]
     },
     "metadata": {
      "needs_background": "light"
     },
     "output_type": "display_data"
    }
   ],
   "source": [
    "data=pd.read_csv(\"Suicide Rates by Country - 2015.csv\")\n",
    "display(data)\n",
    "data.hist(column=['rates'],bins=35,grid=True,zorder=2, rwidth=0.95)\n",
    "plt.title('Histogram of Rates')\n",
    "plt.xlabel('Rates in countries')\n",
    "plt.ylabel('Occurences')"
   ]
  },
  {
   "cell_type": "markdown",
   "id": "b216c7b2",
   "metadata": {},
   "source": [
    "1b)  Does this histogram appear to indicate that this variable follows a Poisson or a Gaussian distribution?"
   ]
  },
  {
   "cell_type": "markdown",
   "id": "f77cbfdc",
   "metadata": {},
   "source": [
    "The histogram shows us that the variable follows a Poisson distribution."
   ]
  },
  {
   "cell_type": "markdown",
   "id": "27c35fca",
   "metadata": {},
   "source": [
    "1c)  Run a Poisson regression using \"plan\" and \"psych\" as the predictors and \"rates\" as the response variable.  Display the resulting coefficients.  Use the full dataset (do not create partitions)"
   ]
  },
  {
   "cell_type": "code",
   "execution_count": 3,
   "id": "89e60758",
   "metadata": {},
   "outputs": [
    {
     "name": "stdout",
     "output_type": "stream",
     "text": [
      "4.395662033507743\n",
      "Coefficients are [0.05364156 0.02570458]\n"
     ]
    }
   ],
   "source": [
    "response_variable=data['rates']\n",
    "predictor_variables=data[['plan','psych']]\n",
    "model= linear_model.PoissonRegressor()\n",
    "model.fit(predictor_variables,response_variable)\n",
    "print(model.intercept_)\n",
    "print(f'Coefficients are {model.coef_}')"
   ]
  },
  {
   "cell_type": "markdown",
   "id": "5b8f6a37",
   "metadata": {},
   "source": [
    "1D)  What would be the expected number of suicides per 10,000 population for a country that had a health plan and had 10 psychiatrists per 100,000 population?  "
   ]
  },
  {
   "cell_type": "code",
   "execution_count": 4,
   "id": "875fb970",
   "metadata": {},
   "outputs": [
    {
     "name": "stdout",
     "output_type": "stream",
     "text": [
      "Expexted number of suicides are [116.745]\n"
     ]
    }
   ],
   "source": [
    "pred=model.predict([[2,10]])\n",
    "print(f'Expexted number of suicides are {np.round(pred,3)}')"
   ]
  },
  {
   "cell_type": "markdown",
   "id": "15869cdc",
   "metadata": {},
   "source": [
    "1E) For this country (from 1D), what is the probability that there would be 100 suicides (per 10,000 population)?"
   ]
  },
  {
   "cell_type": "code",
   "execution_count": 5,
   "id": "af6f26b1",
   "metadata": {},
   "outputs": [
    {
     "name": "stdout",
     "output_type": "stream",
     "text": [
      "Probability of 100 suicides is [0.011275201791984657]\n"
     ]
    }
   ],
   "source": [
    "probab = ((np.exp(-(pred))*((pred)**100))/np.math.factorial(100))\n",
    "print(f'Probability of 100 suicides is {probab}')"
   ]
  },
  {
   "cell_type": "markdown",
   "id": "a4b63bd7",
   "metadata": {},
   "source": [
    "1f)  For this country (from 1D), what is the probability that there would be between 100 and 120 suicides (inclusive).  Assume that the counts are all integers (they have been rounded)."
   ]
  },
  {
   "cell_type": "code",
   "execution_count": 6,
   "id": "d12bdac8",
   "metadata": {},
   "outputs": [
    {
     "name": "stdout",
     "output_type": "stream",
     "text": [
      "Probability of 100 to 120 suicides is 0.589\n"
     ]
    }
   ],
   "source": [
    "npcounts=np.arange(100,120+1)\n",
    "poisson_prob = []\n",
    "for i in npcounts:\n",
    " pp = (np.exp(-pred)*(pred**(i)))/np.math.factorial(i)\n",
    " poisson_prob.append(pp)\n",
    "answer = np.sum(poisson_prob)\n",
    "print(f'Probability of 100 to 120 suicides is {np.round(answer,3)}')"
   ]
  },
  {
   "cell_type": "code",
   "execution_count": null,
   "id": "a07b3f5a",
   "metadata": {},
   "outputs": [],
   "source": []
  }
 ],
 "metadata": {
  "kernelspec": {
   "display_name": "Python 3",
   "language": "python",
   "name": "python3"
  },
  "language_info": {
   "codemirror_mode": {
    "name": "ipython",
    "version": 3
   },
   "file_extension": ".py",
   "mimetype": "text/x-python",
   "name": "python",
   "nbconvert_exporter": "python",
   "pygments_lexer": "ipython3",
   "version": "3.8.8"
  }
 },
 "nbformat": 4,
 "nbformat_minor": 5
}
